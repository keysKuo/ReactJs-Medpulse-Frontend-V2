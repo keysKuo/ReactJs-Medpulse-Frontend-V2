{
 "cells": [
  {
   "cell_type": "code",
   "execution_count": 8,
   "metadata": {},
   "outputs": [
    {
     "name": "stdout",
     "output_type": "stream",
     "text": [
      "List of PNG files in services:\n",
      "\n",
      "benefit.png\n",
      "development.png\n",
      "focus-group.png\n",
      "targeting.png\n"
     ]
    }
   ],
   "source": [
    "import os\n",
    "\n",
    "directory_path = \"services\"\n",
    "\n",
    "full_directory_path = os.path.join(os.getcwd(), directory_path)\n",
    "\n",
    "png_files = [filename for filename in os.listdir(full_directory_path) if filename.endswith(\".png\")]\n",
    "\n",
    "if png_files:\n",
    "    print(f\"List of PNG files in {directory_path}:\\n\")\n",
    "    for png_file in png_files:\n",
    "        print(png_file)\n",
    "else:\n",
    "    print(f\"No PNG files found in {directory_path}.\")\n"
   ]
  }
 ],
 "metadata": {
  "kernelspec": {
   "display_name": "Python 3",
   "language": "python",
   "name": "python3"
  },
  "language_info": {
   "codemirror_mode": {
    "name": "ipython",
    "version": 3
   },
   "file_extension": ".py",
   "mimetype": "text/x-python",
   "name": "python",
   "nbconvert_exporter": "python",
   "pygments_lexer": "ipython3",
   "version": "3.11.5"
  }
 },
 "nbformat": 4,
 "nbformat_minor": 2
}
